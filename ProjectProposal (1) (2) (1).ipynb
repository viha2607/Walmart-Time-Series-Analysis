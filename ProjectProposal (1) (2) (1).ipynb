{
 "cells": [
  {
   "cell_type": "markdown",
   "metadata": {},
   "source": [
    "# IST 652 PROJECT PROPOSAL \n",
    "\n",
    "\n",
    "The final project for IST652 involves locating an open data set or a group of data sets of interest, formulating an inquiry or set of inquiries that could be addressed with the data,processing the data set(s) in a Jupyter Notebook environment using Python, and conducting some analyses on the data to illuminate the inquiry. The project focuses on open data in order to ensure that your chain of transformations and analysis is\n",
    "reproducible. \n",
    "\n",
    "This is the FIRST DELIVERABLE \n",
    "\n",
    "\n",
    "## Project Objective\n",
    "\n",
    "Primary objectives for the project are ..\n",
    "\n",
    "- Demonstrate your ability to write Python scripts to access and process data.\n",
    "- Describe steps taken to prepare the data for analysis. For example how did you access and ingest the data, data wrangling, formatting, feature engineering and other steps. \n",
    "- Develop a research questions you are hoping to answer from the data collected.\n",
    "- Clearly articulate findings from analysis and summarizes impactful findings.\n",
    "- Collaborate as a team.\n",
    "\n",
    "\n"
   ]
  },
  {
   "cell_type": "markdown",
   "metadata": {},
   "source": [
    "## Analysis Team \n",
    "\n",
    "List team members below and their roles (note roles may be modified in the second deliverable)\n",
    "\n",
    "`--== Double-Click and Write Your Project Summary Below This Line  ==--`\n",
    "The Analysis team consists of the two of us:\n",
    "1. Neha Sunil Patil \n",
    "2. Viha Anuj Mashruwala "
   ]
  },
  {
   "cell_type": "markdown",
   "metadata": {},
   "source": [
    "## Phase 1: Ideation\n",
    "\n",
    "The goal of this phase is to outline the specific goals and objectives of your project; include evidence of its feasibility by including citations of resources you will use to complete the code.\n"
   ]
  },
  {
   "cell_type": "markdown",
   "metadata": {},
   "source": [
    "### Step 1: Project Summary \n",
    "\n",
    "Write a brief summary of your project ideas, In 250 - 500 words.\n",
    "\n",
    "`--== Double-Click and Write Below this Line  ==--`\n",
    "\n",
    "\n",
    "Summary:\n",
    "\n",
    "In the dynamic landscape of the retail industry, effective supply chain management (SCM) stands out as a critical factor in maintaining operational efficiency and ensuring customer satisfaction. Within this context, the ability to accurately predict future product demand holds the key to successful inventory management and streamlined logistics for retail chains like Walmart. By leveraging data analysis, this project aims to forecast product demand, enabling Walmart to optimize their supply chain operations and achieve a delicate balance between supply and demand.\n",
    "\n",
    "Understanding the intricacies of demand forecasting in the retail sector is instrumental in avoiding overstocking, reducing costs, and enhancing overall operational efficacy. This project seeks to utilize comprehensive data sets sourced from Walmart to create robust predictive models. Through the application of advanced analytical techniques, the project endeavors to provide actionable insights into product demand patterns, offering valuable guidance for strategic decision-making processes. By forecasting demand at a weekly or monthly level, Walmart can significantly enhance its supply chain management, leading to improved inventory control, streamlined logistics, and ultimately, greater financial returns.\n",
    "\n",
    "To achieve the outlined objectives, this project will draw upon a diverse range of resources, including reputable academic research, industry reports, and established methodologies in data analysis and machine learning. By integrating these resources, the project aims to ensure the feasibility and effectiveness of the proposed data analysis approach, paving the way for informed decision-making and fostering sustainable growth within the retail sector. By focusing on the accurate prediction of product demand, this initiative aspires to provide tangible benefits for Walmart, culminating in enhanced operational efficiency and a competitive edge in the ever-evolving retail market.\n"
   ]
  },
  {
   "cell_type": "markdown",
   "metadata": {},
   "source": [
    "### Step 2: Datasets Research\n",
    "\n",
    "Select a dataset or a combination of datasets for your project. Many data sets are available at sites such as the World Bank ( http://data.worldbank.org ), the U.S. Federal Government ( http://www.data.gov ), - other potential sites for data sets will\n",
    "be provided by the instructor but it is recommended that you search for open data sets too on your own. However, do not use datasets from Kaggle.com. \n",
    "\n",
    "Note: The number of records (rows) present in your dataset (or total combination of datasets) must exceed 4,000 with at least 8 different categories (columns) of data.\n",
    "\n",
    "\n",
    "Clearly describe from where your data was located.Why is this resource an authority. Provide a shortlist of datasets your team is considering for your final project. Provide references to the dataset as applicable.  Include any other components necessary.\n",
    "\n",
    "\n",
    "`--== Double-Click and Write Below this Line  ==--`\n",
    "or our project, we identified an ideal dataset on Walmart's sales, sourced from an external repository. This dataset is notably a part of an annual competition hosted by Walmart on Kaggle, where participants are tasked with exploring the dataset and addressing pertinent business queries specified by the company. The dataset contains comprehensive information crucial for our analysis, enabling us to derive meaningful insights into sales trends and make accurate predictions.\n",
    "\n",
    "The dataset we are utilizing for our analysis can be accessed through the following link: Walmart Time Series Sales Forecasting. Although it was retrieved from Kaggle, it serves as an exemplary resource due to its rich, real-world retail data provided directly by Walmart. Given the annual competition's credibility and the dataset's relevance to our project's objectives, it offers a robust foundation for our predictive modeling and analysis.\n",
    "\n",
    "Additionally, while exploring potential datasets, we abstained from using datasets from Kaggle, as per the guidelines provided. Instead, we initially considered exploring open datasets from authoritative sources such as the World Bank (http://data.worldbank.org) and the U.S. Federal Government (http://www.data.gov) to ensure the reliability and credibility of the data. However, our research yielded that the Walmart dataset from Kaggle aligns perfectly with our project goals and the requirements outlined by the instructor.\n",
    "\n",
    "Considering the stringent criteria set forth by our project guidelines, we are currently focusing exclusively on the Walmart dataset to ensure that our analysis meets the stipulated requirements. We believe that the Walmart dataset, with its extensive records and diverse categories, will provide us with a robust foundation to conduct comprehensive data analysis and generate accurate sales predictions.\n",
    "\n",
    "To ensure the integrity of our research, we will adhere to industry best practices in data analysis, drawing upon a combination of established methodologies and cutting-edge techniques to derive valuable insights and formulate informed recommendations for enhancing Walmart's supply chain management and sales forecasting processes. \n",
    "\n",
    "The link for the dataset is : \n",
    "https://www.kaggle.com/code/anushkaml/walmart-time-series-sales-forecasting\n",
    "\n"
   ]
  },
  {
   "cell_type": "markdown",
   "metadata": {},
   "source": [
    "### Step 2a: Objectives \n",
    "\n",
    "What have you learned about your dataset(s) so far, and what are the questions you plan to answer with the data (a minimum of 5 questions is a good start).\n",
    "\n",
    "`--== Double-click and write below this line  ==--`\n",
    "\n",
    "Based on the initial exploration of the Walmart sales dataset, we have gleaned several insights, including the following:\n",
    "\n",
    "Temporal Sales Patterns: Preliminary analysis reveals varying sales trends across different time periods, such as daily, weekly, and monthly patterns. Understanding these temporal variations can help us identify seasonal fluctuations and periodic sales spikes.\n",
    "\n",
    "Product Performance: We have noticed that certain product categories exhibit consistent sales performance, while others demonstrate more erratic trends. Understanding the factors influencing the sales of specific product categories can provide valuable insights for inventory management and marketing strategies.\n",
    "\n",
    "Store-specific Analysis: The dataset appears to contain information from various Walmart store locations. Analyzing sales patterns and trends specific to different stores can provide insights into regional consumer preferences and economic factors influencing sales in different geographic locations.\n",
    "\n",
    "Promotional Impact: Initial observations suggest that promotional activities, such as discounts and special offers, might have a significant impact on sales volumes. Investigating the relationship between promotional events and sales performance can help us evaluate the effectiveness of marketing strategies and promotional campaigns.\n",
    "\n",
    "Correlation Analysis: Exploring correlations between different variables, such as store size, geographical location, and product categories, can provide valuable insights into the complex interplay of various factors affecting sales performance. Understanding these correlations can aid in developing comprehensive predictive models for future sales forecasting.\n",
    "\n",
    "Based on these initial findings, we have formulated a set of key questions that we aim to address using the dataset:\n",
    "\n",
    "How do sales patterns vary across different temporal intervals (daily, weekly, monthly), and are there any noticeable seasonal trends or periodic fluctuations?\n",
    "Which product categories consistently outperform others, and what factors contribute to their sustained sales performance?\n",
    "How do sales vary across different Walmart store locations, and what regional factors influence consumer behavior and purchasing patterns?\n",
    "What is the impact of promotional activities on sales volumes, and which types of promotions have the most significant effect on customer purchasing behavior?\n",
    "What are the significant correlations between various factors, such as store size, geographical location, and product categories, and how do these correlations influence overall sales performance?\n",
    "By addressing these key questions, we aim to gain a comprehensive understanding of the underlying dynamics driving sales trends and consumer behavior within the Walmart retail environment. This knowledge will enable us to develop robust predictive models and strategic recommendations for enhancing supply chain management and optimizing sales forecasting for Walmart.\n"
   ]
  },
  {
   "cell_type": "markdown",
   "metadata": {},
   "source": [
    "### References\n",
    "\n",
    "\n",
    "`--== Double-click and write below this line  ==--`\n",
    "\n"
   ]
  },
  {
   "cell_type": "markdown",
   "metadata": {},
   "source": [
    "1. https://www.kaggle.com/code/anushkaml/walmart-time-series-sales-forecasting\n",
    "2. https://medium.datadriveninvestor.com/walmart-sales-data-analysis-sales-prediction-using-multiple-linear-regression-in-r-programming-adb14afd56fb\n",
    "3. https://prezi.com/vpvakz73fjjp/walmart-sales-analysis/"
   ]
  },
  {
   "cell_type": "code",
   "execution_count": null,
   "metadata": {},
   "outputs": [],
   "source": []
  }
 ],
 "metadata": {
  "kernelspec": {
   "display_name": "Python 3 (ipykernel)",
   "language": "python",
   "name": "python3"
  },
  "language_info": {
   "codemirror_mode": {
    "name": "ipython",
    "version": 3
   },
   "file_extension": ".py",
   "mimetype": "text/x-python",
   "name": "python",
   "nbconvert_exporter": "python",
   "pygments_lexer": "ipython3",
   "version": "3.11.3"
  },
  "varInspector": {
   "cols": {
    "lenName": 16,
    "lenType": 16,
    "lenVar": 40
   },
   "kernels_config": {
    "python": {
     "delete_cmd_postfix": "",
     "delete_cmd_prefix": "del ",
     "library": "var_list.py",
     "varRefreshCmd": "print(var_dic_list())"
    },
    "r": {
     "delete_cmd_postfix": ") ",
     "delete_cmd_prefix": "rm(",
     "library": "var_list.r",
     "varRefreshCmd": "cat(var_dic_list()) "
    }
   },
   "types_to_exclude": [
    "module",
    "function",
    "builtin_function_or_method",
    "instance",
    "_Feature"
   ],
   "window_display": false
  }
 },
 "nbformat": 4,
 "nbformat_minor": 4
}
